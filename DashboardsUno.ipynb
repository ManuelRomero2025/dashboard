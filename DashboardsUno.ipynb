{
  "nbformat": 4,
  "nbformat_minor": 0,
  "metadata": {
    "colab": {
      "provenance": [],
      "mount_file_id": "17T2WhorlVeJzLw28CjYIDTldntFGsboL",
      "authorship_tag": "ABX9TyOOHm8AzUuYtCT/CYkX/ZRw",
      "include_colab_link": true
    },
    "kernelspec": {
      "name": "python3",
      "display_name": "Python 3"
    },
    "language_info": {
      "name": "python"
    }
  },
  "cells": [
    {
      "cell_type": "markdown",
      "metadata": {
        "id": "view-in-github",
        "colab_type": "text"
      },
      "source": [
        "<a href=\"https://colab.research.google.com/github/ManuelRomero2025/dashboard/blob/main/DashboardsUno.ipynb\" target=\"_parent\"><img src=\"https://colab.research.google.com/assets/colab-badge.svg\" alt=\"Open In Colab\"/></a>"
      ]
    },
    {
      "cell_type": "code",
      "source": [
        "!pip install streamlit\n",
        "import streamlit as st\n",
        "import pandas as pd\n",
        "import numpy as np\n",
        "import matplotlib.pyplot as plt"
      ],
      "metadata": {
        "id": "JoFwN2JzdHcg",
        "colab": {
          "base_uri": "https://localhost:8080/"
        },
        "outputId": "cf8e7b72-f29a-4981-b6f6-ac543f1092c9"
      },
      "execution_count": 34,
      "outputs": [
        {
          "output_type": "stream",
          "name": "stdout",
          "text": [
            "Requirement already satisfied: streamlit in /usr/local/lib/python3.11/dist-packages (1.44.1)\n",
            "Requirement already satisfied: altair<6,>=4.0 in /usr/local/lib/python3.11/dist-packages (from streamlit) (5.5.0)\n",
            "Requirement already satisfied: blinker<2,>=1.0.0 in /usr/local/lib/python3.11/dist-packages (from streamlit) (1.9.0)\n",
            "Requirement already satisfied: cachetools<6,>=4.0 in /usr/local/lib/python3.11/dist-packages (from streamlit) (5.5.2)\n",
            "Requirement already satisfied: click<9,>=7.0 in /usr/local/lib/python3.11/dist-packages (from streamlit) (8.1.8)\n",
            "Requirement already satisfied: numpy<3,>=1.23 in /usr/local/lib/python3.11/dist-packages (from streamlit) (2.0.2)\n",
            "Requirement already satisfied: packaging<25,>=20 in /usr/local/lib/python3.11/dist-packages (from streamlit) (24.2)\n",
            "Requirement already satisfied: pandas<3,>=1.4.0 in /usr/local/lib/python3.11/dist-packages (from streamlit) (2.2.2)\n",
            "Requirement already satisfied: pillow<12,>=7.1.0 in /usr/local/lib/python3.11/dist-packages (from streamlit) (11.1.0)\n",
            "Requirement already satisfied: protobuf<6,>=3.20 in /usr/local/lib/python3.11/dist-packages (from streamlit) (5.29.4)\n",
            "Requirement already satisfied: pyarrow>=7.0 in /usr/local/lib/python3.11/dist-packages (from streamlit) (18.1.0)\n",
            "Requirement already satisfied: requests<3,>=2.27 in /usr/local/lib/python3.11/dist-packages (from streamlit) (2.32.3)\n",
            "Requirement already satisfied: tenacity<10,>=8.1.0 in /usr/local/lib/python3.11/dist-packages (from streamlit) (9.1.2)\n",
            "Requirement already satisfied: toml<2,>=0.10.1 in /usr/local/lib/python3.11/dist-packages (from streamlit) (0.10.2)\n",
            "Requirement already satisfied: typing-extensions<5,>=4.4.0 in /usr/local/lib/python3.11/dist-packages (from streamlit) (4.13.2)\n",
            "Requirement already satisfied: watchdog<7,>=2.1.5 in /usr/local/lib/python3.11/dist-packages (from streamlit) (6.0.0)\n",
            "Requirement already satisfied: gitpython!=3.1.19,<4,>=3.0.7 in /usr/local/lib/python3.11/dist-packages (from streamlit) (3.1.44)\n",
            "Requirement already satisfied: pydeck<1,>=0.8.0b4 in /usr/local/lib/python3.11/dist-packages (from streamlit) (0.9.1)\n",
            "Requirement already satisfied: tornado<7,>=6.0.3 in /usr/local/lib/python3.11/dist-packages (from streamlit) (6.4.2)\n",
            "Requirement already satisfied: jinja2 in /usr/local/lib/python3.11/dist-packages (from altair<6,>=4.0->streamlit) (3.1.6)\n",
            "Requirement already satisfied: jsonschema>=3.0 in /usr/local/lib/python3.11/dist-packages (from altair<6,>=4.0->streamlit) (4.23.0)\n",
            "Requirement already satisfied: narwhals>=1.14.2 in /usr/local/lib/python3.11/dist-packages (from altair<6,>=4.0->streamlit) (1.35.0)\n",
            "Requirement already satisfied: gitdb<5,>=4.0.1 in /usr/local/lib/python3.11/dist-packages (from gitpython!=3.1.19,<4,>=3.0.7->streamlit) (4.0.12)\n",
            "Requirement already satisfied: python-dateutil>=2.8.2 in /usr/local/lib/python3.11/dist-packages (from pandas<3,>=1.4.0->streamlit) (2.8.2)\n",
            "Requirement already satisfied: pytz>=2020.1 in /usr/local/lib/python3.11/dist-packages (from pandas<3,>=1.4.0->streamlit) (2025.2)\n",
            "Requirement already satisfied: tzdata>=2022.7 in /usr/local/lib/python3.11/dist-packages (from pandas<3,>=1.4.0->streamlit) (2025.2)\n",
            "Requirement already satisfied: charset-normalizer<4,>=2 in /usr/local/lib/python3.11/dist-packages (from requests<3,>=2.27->streamlit) (3.4.1)\n",
            "Requirement already satisfied: idna<4,>=2.5 in /usr/local/lib/python3.11/dist-packages (from requests<3,>=2.27->streamlit) (3.10)\n",
            "Requirement already satisfied: urllib3<3,>=1.21.1 in /usr/local/lib/python3.11/dist-packages (from requests<3,>=2.27->streamlit) (2.3.0)\n",
            "Requirement already satisfied: certifi>=2017.4.17 in /usr/local/lib/python3.11/dist-packages (from requests<3,>=2.27->streamlit) (2025.1.31)\n",
            "Requirement already satisfied: smmap<6,>=3.0.1 in /usr/local/lib/python3.11/dist-packages (from gitdb<5,>=4.0.1->gitpython!=3.1.19,<4,>=3.0.7->streamlit) (5.0.2)\n",
            "Requirement already satisfied: MarkupSafe>=2.0 in /usr/local/lib/python3.11/dist-packages (from jinja2->altair<6,>=4.0->streamlit) (3.0.2)\n",
            "Requirement already satisfied: attrs>=22.2.0 in /usr/local/lib/python3.11/dist-packages (from jsonschema>=3.0->altair<6,>=4.0->streamlit) (25.3.0)\n",
            "Requirement already satisfied: jsonschema-specifications>=2023.03.6 in /usr/local/lib/python3.11/dist-packages (from jsonschema>=3.0->altair<6,>=4.0->streamlit) (2024.10.1)\n",
            "Requirement already satisfied: referencing>=0.28.4 in /usr/local/lib/python3.11/dist-packages (from jsonschema>=3.0->altair<6,>=4.0->streamlit) (0.36.2)\n",
            "Requirement already satisfied: rpds-py>=0.7.1 in /usr/local/lib/python3.11/dist-packages (from jsonschema>=3.0->altair<6,>=4.0->streamlit) (0.24.0)\n",
            "Requirement already satisfied: six>=1.5 in /usr/local/lib/python3.11/dist-packages (from python-dateutil>=2.8.2->pandas<3,>=1.4.0->streamlit) (1.17.0)\n"
          ]
        }
      ]
    },
    {
      "cell_type": "code",
      "source": [
        "!pip install streamlit pyngrok --quiet\n"
      ],
      "metadata": {
        "id": "K-33dPQHdsKF"
      },
      "execution_count": 20,
      "outputs": []
    },
    {
      "cell_type": "code",
      "source": [
        "code = '''\n",
        "import streamlit as st\n",
        "import pandas as pd\n",
        "import numpy as np\n",
        "import matplotlib.pyplot as plt\n",
        "\n",
        "# Título y descripción\n",
        "st.title(\"Análisis de Satisfacción Laboral\")\n",
        "st.write(\"Esta aplicación simula y analiza datos de satisfacción laboral en una empresa de tecnología.\")\n",
        "\n",
        "# Simulación de datos\n",
        "np.random.seed(42)\n",
        "n = 100\n",
        "\n",
        "data = pd.DataFrame({\n",
        "    \"Empleado_ID\": np.arange(1, n+1),\n",
        "    \"Departamento\": np.random.choice([\"IT\", \"Marketing\", \"RRHH\", \"Ventas\"], size=n),\n",
        "    \"Edad\": np.random.normal(35, 5, size=n).astype(int),\n",
        "    \"Salario_Mensual\": np.random.normal(4000, 800, size=n).astype(int),\n",
        "    \"Carga_Laboral\": np.random.randint(30, 60, size=n),  # horas semanales\n",
        "    \"Satisfacción\": np.round(np.random.uniform(1, 5, size=n), 1)  # escala 1-5\n",
        "})\n",
        "\n",
        "# Mostrar tabla\n",
        "st.subheader(\"Datos simulados\")\n",
        "st.dataframe(data.head())\n",
        "\n",
        "# Estadísticas generales\n",
        "st.subheader(\"Estadísticas generales\")\n",
        "st.write(data.describe())\n",
        "\n",
        "# Selección de variable para análisis visual\n",
        "st.subheader(\"Análisis por variable numérica\")\n",
        "var = st.selectbox(\"Selecciona una variable para graficar\", ['Edad', 'Salario_Mensual', 'Carga_Laboral', 'Satisfacción'])\n",
        "\n",
        "# Histograma\n",
        "fig, ax = plt.subplots()\n",
        "ax.hist(data[var], bins=15, color='skyblue', edgecolor='black')\n",
        "ax.set_title(f\"Distribución de {var}\")\n",
        "ax.set_xlabel(var)\n",
        "ax.set_ylabel(\"Frecuencia\")\n",
        "st.pyplot(fig)\n",
        "\n",
        "# Boxplot por departamento\n",
        "st.subheader(f\"{var} por Departamento\")\n",
        "fig2, ax2 = plt.subplots()\n",
        "data.boxplot(column=var, by=\"Departamento\", ax=ax2, grid=False)\n",
        "plt.title(f\"{var} por Departamento\")\n",
        "plt.suptitle(\"\")\n",
        "st.pyplot(fig2)\n",
        "\n",
        "# Análisis de correlaciones\n",
        "st.subheader(\"Correlación entre variables numéricas\")\n",
        "st.dataframe(data.corr(numeric_only=True))\n",
        "\n",
        "# Relación entre Carga Laboral y Satisfacción\n",
        "st.subheader(\"Relación entre carga laboral y satisfacción\")\n",
        "fig3, ax3 = plt.subplots()\n",
        "ax3.scatter(data['Carga_Laboral'], data['Satisfacción'], alpha=0.7)\n",
        "ax3.set_xlabel(\"Carga Laboral (horas/semana)\")\n",
        "ax3.set_ylabel(\"Satisfacción (1 a 5)\")\n",
        "ax3.set_title(\"Carga Laboral vs Satisfacción\")\n",
        "st.pyplot(fig3)\n",
        "'''\n",
        "\n",
        "# Guardar el archivo como app.py\n",
        "with open('app.py', 'w') as f:\n",
        "    f.write(code)\n"
      ],
      "metadata": {
        "id": "d1sUK4U5dvCJ"
      },
      "execution_count": 35,
      "outputs": []
    },
    {
      "cell_type": "code",
      "source": [
        "!pip install pyngrok\n",
        "!ngrok config add-authtoken 2vyOA7vjisnG4Gh4hJYxPsCDRL7_2YoUo8u9KVz5U2FbZkBQf"
      ],
      "metadata": {
        "colab": {
          "base_uri": "https://localhost:8080/"
        },
        "id": "SOvvmFlteMmX",
        "outputId": "ca3573dd-fd86-4027-d872-42dac0c97ea7"
      },
      "execution_count": 36,
      "outputs": [
        {
          "output_type": "stream",
          "name": "stdout",
          "text": [
            "Requirement already satisfied: pyngrok in /usr/local/lib/python3.11/dist-packages (7.2.4)\n",
            "Requirement already satisfied: PyYAML>=5.1 in /usr/local/lib/python3.11/dist-packages (from pyngrok) (6.0.2)\n",
            "Authtoken saved to configuration file: /root/.config/ngrok/ngrok.yml\n"
          ]
        }
      ]
    },
    {
      "cell_type": "code",
      "source": [
        "from pyngrok import ngrok\n",
        "\n",
        "# Cerrar túneles anteriores\n",
        "ngrok.kill()\n",
        "\n",
        "# Conexión explícita con bind_tls\n",
        "public_url = ngrok.connect(\"http://localhost:8501\", bind_tls=True)\n",
        "print(f\"Tu app está disponible aquí: {public_url}\")\n",
        "\n",
        "# Ejecutar Streamlit\n",
        "!streamlit run app.py &> /dev/null &"
      ],
      "metadata": {
        "colab": {
          "base_uri": "https://localhost:8080/"
        },
        "id": "IjHL2DBvu7kg",
        "outputId": "f1facb76-b675-40a6-b8bc-1fbfdfc5014b"
      },
      "execution_count": 38,
      "outputs": [
        {
          "output_type": "stream",
          "name": "stdout",
          "text": [
            "Tu app está disponible aquí: NgrokTunnel: \"https://abfe-35-221-190-240.ngrok-free.app\" -> \"http://localhost:8501\"\n"
          ]
        }
      ]
    }
  ]
}