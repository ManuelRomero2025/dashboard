{
  "nbformat": 4,
  "nbformat_minor": 0,
  "metadata": {
    "colab": {
      "provenance": [],
      "authorship_tag": "ABX9TyMlv0P59Sk9cB0crK9NFn9C",
      "include_colab_link": true
    },
    "kernelspec": {
      "name": "python3",
      "display_name": "Python 3"
    },
    "language_info": {
      "name": "python"
    }
  },
  "cells": [
    {
      "cell_type": "markdown",
      "metadata": {
        "id": "view-in-github",
        "colab_type": "text"
      },
      "source": [
        "<a href=\"https://colab.research.google.com/github/ManuelRomero2025/dashboard/blob/main/dashboard.ipynb\" target=\"_parent\"><img src=\"https://colab.research.google.com/assets/colab-badge.svg\" alt=\"Open In Colab\"/></a>"
      ]
    },
    {
      "cell_type": "code",
      "source": [
        "# Instalar solo una vez\n",
        "!pip install streamlit pyngrok --quiet"
      ],
      "metadata": {
        "id": "VLiopbG_7IAZ"
      },
      "execution_count": 105,
      "outputs": []
    },
    {
      "cell_type": "code",
      "source": [
        "# Crear archivo dashboard.py\n",
        "dashboard_code = '''\n",
        "import streamlit as st\n",
        "import pandas as pd\n",
        "import seaborn as sns\n",
        "import matplotlib.pyplot as plt\n",
        "\n",
        "@st.cache_data\n",
        "def cargar_datos():\n",
        "    return pd.read_csv(\"/content/drive/MyDrive/CienciasDatos2025/HR-Employee.csv\")\n",
        "\n",
        "df = cargar_datos()\n",
        "\n",
        "st.title(\"Dashboard Interactivo - Análisis de Empleados\")\n",
        "\n",
        "st.sidebar.header(\"Filtros\")\n",
        "departamentos = st.sidebar.multiselect(\"Departamento\", options=df[\"Department\"].unique(), default=df[\"Department\"].unique())\n",
        "sexo = st.sidebar.multiselect(\"Género\", options=df[\"Gender\"].unique(), default=df[\"Gender\"].unique())\n",
        "attrition = st.sidebar.selectbox(\"Attrition\", options=[\"All\"] + list(df[\"Attrition\"].unique()))\n",
        "\n",
        "df_filtrado = df[(df[\"Department\"].isin(departamentos)) & (df[\"Gender\"].isin(sexo))]\n",
        "if attrition != \"All\":\n",
        "    df_filtrado = df_filtrado[df_filtrado[\"Attrition\"] == attrition]\n",
        "\n",
        "st.subheader(\"Métricas Generales\")\n",
        "col1, col2, col3 = st.columns(3)\n",
        "col1.metric(\"Total de empleados\", len(df_filtrado))\n",
        "col2.metric(\"Edad promedio\", round(df_filtrado[\"Age\"].mean(), 1))\n",
        "col3.metric(\"Ingreso promedio\", f\"${df_filtrado['MonthlyIncome'].mean():,.0f}\")\n",
        "\n",
        "st.subheader(\"Distribución de la Edad\")\n",
        "fig1, ax1 = plt.subplots()\n",
        "sns.histplot(df_filtrado[\"Age\"], kde=True, bins=20, ax=ax1)\n",
        "st.pyplot(fig1)\n",
        "\n",
        "st.subheader(\"Ingreso mensual por nivel de trabajo\")\n",
        "fig2, ax2 = plt.subplots()\n",
        "sns.boxplot(data=df_filtrado, x=\"JobLevel\", y=\"MonthlyIncome\", ax=ax2)\n",
        "st.pyplot(fig2)\n",
        "\n",
        "st.subheader(\"Nivel de satisfacción laboral\")\n",
        "fig3, ax3 = plt.subplots()\n",
        "sns.countplot(data=df_filtrado, x=\"JobSatisfaction\", hue=\"Gender\", ax=ax3)\n",
        "st.pyplot(fig3)\n",
        "\n",
        "st.subheader(\"Relación: Años en la empresa vs Edad\")\n",
        "fig4, ax4 = plt.subplots()\n",
        "sns.scatterplot(data=df_filtrado, x=\"Age\", y=\"YearsAtCompany\", hue=\"Attrition\", ax=ax4)\n",
        "st.pyplot(fig4)\n",
        "'''\n",
        "\n",
        "with open('dashboard.py', 'w') as f:\n",
        "    f.write(dashboard_code)\n"
      ],
      "metadata": {
        "id": "y6DF0Qac9cHN"
      },
      "execution_count": 108,
      "outputs": []
    },
    {
      "cell_type": "code",
      "source": [
        "from pyngrok import ngrok\n",
        "import os\n",
        "import time\n",
        "import threading\n",
        "\n",
        "# Usa tu token real aquí\n",
        "ngrok.set_auth_token(\"2vyOA7vjisnG4Gh4hJYxPsCDRL7_2YoUo8u9KVz5U2FbZkBQf\")\n",
        "\n",
        "# Cerrar túneles anteriores\n",
        "ngrok.kill()\n",
        "\n",
        "# Ejecutar streamlit en segundo plano\n",
        "def run_app():\n",
        "    os.system(\"streamlit run dashboard.py\")\n",
        "\n",
        "threading.Thread(target=run_app).start()\n",
        "\n",
        "# Esperar a que Streamlit arranque\n",
        "time.sleep(5)\n",
        "\n",
        "# Crear túnel a localhost:8501\n",
        "public_url = ngrok.connect(8501)\n",
        "print(f\"✅ Tu dashboard está disponible aquí:\\n{public_url}\")\n"
      ],
      "metadata": {
        "colab": {
          "base_uri": "https://localhost:8080/"
        },
        "id": "W-CzwbOQ9i6j",
        "outputId": "1ac940e4-02ca-47b9-9b84-60a65cca7ec4"
      },
      "execution_count": 110,
      "outputs": [
        {
          "output_type": "stream",
          "name": "stdout",
          "text": [
            "✅ Tu dashboard está disponible aquí:\n",
            "NgrokTunnel: \"https://dc04-34-125-176-13.ngrok-free.app\" -> \"http://localhost:8501\"\n"
          ]
        }
      ]
    }
  ]
}