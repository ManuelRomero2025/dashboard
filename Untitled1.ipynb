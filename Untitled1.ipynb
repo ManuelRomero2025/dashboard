{
  "nbformat": 4,
  "nbformat_minor": 0,
  "metadata": {
    "colab": {
      "provenance": [],
      "mount_file_id": "1F7gV8b2B_ghBZgm_G_mMcruXVYo68hQn",
      "authorship_tag": "ABX9TyOUG/Yfm+LIzCJoX0/4VRv/",
      "include_colab_link": true
    },
    "kernelspec": {
      "name": "python3",
      "display_name": "Python 3"
    },
    "language_info": {
      "name": "python"
    }
  },
  "cells": [
    {
      "cell_type": "markdown",
      "metadata": {
        "id": "view-in-github",
        "colab_type": "text"
      },
      "source": [
        "<a href=\"https://colab.research.google.com/github/ManuelRomero2025/dashboard-penguins/blob/main/Untitled1.ipynb\" target=\"_parent\"><img src=\"https://colab.research.google.com/assets/colab-badge.svg\" alt=\"Open In Colab\"/></a>"
      ]
    },
    {
      "cell_type": "code",
      "execution_count": null,
      "metadata": {
        "id": "OEYN4Tuetpsh"
      },
      "outputs": [],
      "source": []
    },
    {
      "cell_type": "markdown",
      "source": [
        "# Ejemplo"
      ],
      "metadata": {
        "id": "yu8tPwrpKqkW"
      }
    },
    {
      "cell_type": "code",
      "source": [
        "print(\"hola\")"
      ],
      "metadata": {
        "colab": {
          "base_uri": "https://localhost:8080/"
        },
        "id": "2gWWGswwK1Pr",
        "outputId": "bddb0e3b-9aaa-4a50-abbe-6ffedba20f3e"
      },
      "execution_count": 1,
      "outputs": [
        {
          "output_type": "stream",
          "name": "stdout",
          "text": [
            "hola\n"
          ]
        }
      ]
    },
    {
      "cell_type": "code",
      "source": [
        "print(\" CREO QUE HOCE ALGO QUE NO QUERIA\")"
      ],
      "metadata": {
        "colab": {
          "base_uri": "https://localhost:8080/"
        },
        "id": "6InEdRi3NAU0",
        "outputId": "e5127cb8-0f4c-4dee-e01b-3b64b643fb71"
      },
      "execution_count": 2,
      "outputs": [
        {
          "output_type": "stream",
          "name": "stdout",
          "text": [
            " CREO QUE HOCE ALGO QUE NO QUERIA\n"
          ]
        }
      ]
    }
  ]
}